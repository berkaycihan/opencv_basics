{
 "cells": [
  {
   "cell_type": "code",
   "execution_count": null,
   "id": "3640ae37",
   "metadata": {},
   "outputs": [],
   "source": [
    "import cv2"
   ]
  },
  {
   "cell_type": "code",
   "execution_count": 1,
   "id": "ef16dbcb",
   "metadata": {},
   "outputs": [],
   "source": [
    "# resim gösterme \n",
    "\n",
    "img=cv2.imread('klon.jpg')    #resmi okuma  not:'0' argümanı eklenirse siyahbeyaz okunur\n",
    "cv2.namedWindow(\"image\",cv2.WINDOW_NORMAL)     #açılan pencere boyutunu değiştirilebilir yapma"
   ]
  },
  {
   "cell_type": "code",
   "execution_count": null,
   "id": "8e936554",
   "metadata": {},
   "outputs": [],
   "source": [
    "cv2.imshow(\"image\",img)    #resmi gösterme\n",
    "cv2.imwrite(\"klon1.jpg\",img)    #resmi kaydetme\n",
    "cv2.waitKey(0) ; cv2.destroyAllWindows()"
   ]
  },
  {
   "cell_type": "code",
   "execution_count": null,
   "id": "59282ebe",
   "metadata": {},
   "outputs": [],
   "source": []
  },
  {
   "cell_type": "code",
   "execution_count": null,
   "id": "8130d050",
   "metadata": {},
   "outputs": [],
   "source": [
    "import cv2"
   ]
  },
  {
   "cell_type": "code",
   "execution_count": null,
   "id": "903b06f7",
   "metadata": {},
   "outputs": [],
   "source": [
    "#yeniden boyutlandırma\n",
    "\n",
    "img=cv2.imread('klon.jpg')\n",
    "img=cv2.resize(img,(640,480))  #yeniden boyutlandırma\n",
    "cv2.imshow('img',img)\n",
    "cv2.waitKey(0);cv2.destroyAllWindows()"
   ]
  },
  {
   "cell_type": "code",
   "execution_count": null,
   "id": "b617bdd8",
   "metadata": {},
   "outputs": [],
   "source": []
  },
  {
   "cell_type": "code",
   "execution_count": 1,
   "id": "63eae6fa",
   "metadata": {},
   "outputs": [],
   "source": [
    "import cv2"
   ]
  },
  {
   "cell_type": "code",
   "execution_count": 2,
   "id": "d05f21f5",
   "metadata": {},
   "outputs": [],
   "source": [
    "# en boy oranını koruyarak yeniden boyutlandırma\n",
    "\n",
    "def resizewithAspectRatio(img,width=None,height=None,inter=cv2.INTER_AREA):    #INTERAREA:boyut hatası olmaması için\n",
    "    dimension=None\n",
    "    (h,w)=img.shape[:2]\n",
    "    \n",
    "    if width is None and height is None:\n",
    "        return img\n",
    "    if width is None:\n",
    "        r=height/float(h)\n",
    "        dimension= (int(w*r),height)\n",
    "    else:\n",
    "        r = width / float(w)\n",
    "        dimension= (width, int(h*r))\n",
    "    \n",
    "    return cv2.resize(img,dimension,interpolation=inter)"
   ]
  },
  {
   "cell_type": "code",
   "execution_count": null,
   "id": "a636501f",
   "metadata": {},
   "outputs": [],
   "source": [
    "img=cv2.imread('klon.jpg')\n",
    "img1=resizewithAspectRatio(img,width=None,height=600,inter=cv2.INTER_AREA)\n",
    "cv2.imshow('Original',img)\n",
    "cv2.imshow('Resized',img1)\n",
    "cv2.waitKey(0);cv2.destroyAllWindows\n"
   ]
  },
  {
   "cell_type": "code",
   "execution_count": null,
   "id": "306f69ad",
   "metadata": {},
   "outputs": [],
   "source": []
  },
  {
   "cell_type": "code",
   "execution_count": 1,
   "id": "7f41e527",
   "metadata": {},
   "outputs": [],
   "source": [
    "import cv2"
   ]
  },
  {
   "cell_type": "code",
   "execution_count": 2,
   "id": "4b2da517",
   "metadata": {},
   "outputs": [],
   "source": [
    "cap = cv2.VideoCapture(0)     # 0:webcam / 1:haricikamera / 'smile.mp4':video"
   ]
  },
  {
   "cell_type": "code",
   "execution_count": null,
   "id": "84d927a7",
   "metadata": {},
   "outputs": [],
   "source": [
    "#webcamden gösterme\n",
    "\n",
    "while True:\n",
    "    ret,frame=cap.read()     #ret:doğru okuduysa TRUE okuyamadıysa FALSE döner frame:kare\n",
    "    frame = cv2.flip(frame,1)  #flip:kareyi yansıtma fonksiyonu\n",
    "    cv2.imshow('webcam',frame)\n",
    "    if cv2.waitKey(1) & 0xFF==ord(\"q\"):\n",
    "        break\n",
    "    \n",
    "cap.release() # serbest bırakıp kapatıyoruz\n",
    "cv2.destroyAllWindows()"
   ]
  },
  {
   "cell_type": "code",
   "execution_count": null,
   "id": "a1cb47ff",
   "metadata": {},
   "outputs": [],
   "source": [
    "#videodan gösterme\n",
    "\n",
    "cap = cv2.VideoCapture('smile.mp4')   \n",
    "while True:\n",
    "    ret,frame=cap.read()\n",
    "    if ret==0:   #videodaki framelerden 0 dönerse çık\n",
    "        break  \n",
    "    cv2.imshow('video',frame)\n",
    "    if cv2.waitKey(15) & 0xFF==ord(\"q\"):\n",
    "        break\n",
    "    \n",
    "cap.release() \n",
    "cv2.destroyAllWindows()\n",
    "    "
   ]
  },
  {
   "cell_type": "code",
   "execution_count": 2,
   "id": "e04299b7",
   "metadata": {},
   "outputs": [],
   "source": [
    "#webcamden kaydetme\n",
    "\n",
    "cap=cv2.VideoCapture(0) #kamera nesnesi\n",
    "\n",
    "fileName='Webcam.avi' #videonun adı\n",
    "codec=cv2.VideoWriter_fourcc('W','M','V','2') #ses ve görüntüyü birleştirmek için bulunan çeşitli algoritmalardan birini seçiyoruz.\n",
    "frameRate=30  #fps\n",
    "resolution=(640,480)  #çözünürlük\n",
    "\n",
    "videoFileOutput= cv2.VideoWriter(fileName,codec,frameRate,resolution) #kaydetme ayarları\n",
    "\n",
    "while True:\n",
    "    ret,frame=cap.read()\n",
    "    frame = cv2.flip(frame,1)\n",
    "    videoFileOutput.write(frame)\n",
    "    cv2.imshow('webcam Live',frame)\n",
    "    if cv2.waitKey(1) & 0xFF== ord(\"q\"):\n",
    "        break\n",
    "videoFileOutput.release()\n",
    "cap.release()\n",
    "cv2.destroyAllWindows()"
   ]
  },
  {
   "cell_type": "code",
   "execution_count": null,
   "id": "b42473b5",
   "metadata": {},
   "outputs": [],
   "source": [
    "# telefon kamerasından görüntü alma\n",
    "\n",
    "import cv2\n",
    "import requests\n",
    "import numpy as np\n",
    "\n",
    "url='http://192.168.1.10:8888/video' #ip webcam uygulamasındaN alınan url\n",
    "\n",
    "while True:\n",
    "    img_resp=requests.get(url)\n",
    "    img_arr=np.array(bytearray(img_resp.content),dtype=np.uint8)   #aldığımız görüntüyü array içinde tutuyoruz\n",
    "    img=cv2.imdecode(img_arr,cv2.IMREAD_COLOR)   #hafızadan çekileni görüntülenebilir hale getirelim imreadcolor:renkli\n",
    "    img=cv2.resize(img,(640,480))\n",
    "    \n",
    "    cv2.imshow('myMobilePhoneCamera',img)\n",
    "    \n",
    "    if cv2.waitKey(1)==27:\n",
    "        break\n",
    "    \n",
    "cv2.destroyAllWindows()\n",
    "    "
   ]
  },
  {
   "cell_type": "code",
   "execution_count": null,
   "id": "e53804dd",
   "metadata": {},
   "outputs": [],
   "source": []
  },
  {
   "cell_type": "code",
   "execution_count": 3,
   "id": "2a5f1b94",
   "metadata": {},
   "outputs": [],
   "source": [
    "import cv2\n",
    "import numpy as np"
   ]
  },
  {
   "cell_type": "code",
   "execution_count": 5,
   "id": "7e1a01e6",
   "metadata": {},
   "outputs": [],
   "source": [
    "# array ile siyah(0,0,0) frame oluşturma(BGR)\n",
    "\n",
    "canvas=np.zeros((512,512,3),dtype=np.uint8) \n",
    "#canvas:tuval\n",
    "cv2.imshow('canvas',canvas)\n",
    "cv2.waitKey(0) ; cv2.destroyAllWindows()"
   ]
  },
  {
   "cell_type": "code",
   "execution_count": 6,
   "id": "19fb9a8a",
   "metadata": {},
   "outputs": [],
   "source": [
    "# array ile beyaz(255,255,255) frame oluşturma(BGR)\n",
    "\n",
    "canvas=np.zeros((512,512,3),dtype=np.uint8)+255 \n",
    "#canvas:tuval\n",
    "cv2.imshow('canvas',canvas)\n",
    "cv2.waitKey(0) ; cv2.destroyAllWindows()"
   ]
  },
  {
   "cell_type": "code",
   "execution_count": null,
   "id": "a196b68b",
   "metadata": {},
   "outputs": [],
   "source": []
  },
  {
   "cell_type": "code",
   "execution_count": 1,
   "id": "9efe1ee5",
   "metadata": {},
   "outputs": [],
   "source": [
    "import cv2\n",
    "import numpy as np"
   ]
  },
  {
   "cell_type": "code",
   "execution_count": null,
   "id": "5d6de2a1",
   "metadata": {},
   "outputs": [],
   "source": [
    "#çizim fonksiyonları\n",
    "\n",
    "\n",
    "#tuval\n",
    "canvas=np.zeros((512,512,3),dtype=np.uint8)+255 \n",
    "\n",
    "#çizgi\n",
    "cv2.line(canvas,(50,50),(512,512),(255,0,0),thickness=5) #line(array,nereden,nereye,renk,kalınlık) \n",
    "\n",
    "#dikdörtgen\n",
    "cv2.rectangle(canvas,(20,20),(50,50),(0,255,0),thickness=2)  #rectangle(array,solüstköşenoktası,sağaltköşenoktası,renk,kalınlık) /içi dolu için:thickness=-1\n",
    "\n",
    "#çember\n",
    "cv2.circle(canvas,(250,250),100,(0,0,255),thickness=5) #cirle(array, merkeznoktası,yarıçapı,renk,kalınlık)/içi dolu için:thickness=-1\n",
    "\n",
    "#çokgen\n",
    "points=np.array([[110,200],[330,200],[290,220],[100,100]],np.int32)\n",
    "cv2.polylines(canvas,[points],True,(0,0,100),5)  #polylines(array,koordinatlar,kapalı-açık,renk,kalınlık)\n",
    "\n",
    "#elips\n",
    "cv2.ellipse(canvas,(300,300),(100,50),0,0,360,(255,255,0),-1) #ellipse(array,merkeznoktası,genişlik-yükseklik,yatayeksenleaçısı,başlangıç-bitişaçısı,renk,kalınlık)\n",
    "\n",
    "#yazı\n",
    "font1=cv2.FONT_HERSHEY_SIMPLEX\n",
    "font2=cv2.FONT_HERSHEY_COMPLEX\n",
    "font3=cv2.FONT_HERSHEY_SCRIPT_COMPLEX\n",
    "cv2.putText(canvas,'Opencv',(50,250),font1,4,(0,0,0),cv2.LINE_AA) #putText(array,metin,solaltköşenoktası,font,büyüklük,renk,yazıtipi)\n",
    "\n",
    "cv2.imshow('canvas',canvas)\n",
    "cv2.waitKey(0) ; cv2.destroyAllWindows()"
   ]
  },
  {
   "cell_type": "code",
   "execution_count": null,
   "id": "6bd41bee",
   "metadata": {},
   "outputs": [],
   "source": []
  },
  {
   "cell_type": "code",
   "execution_count": 1,
   "id": "6373d02c",
   "metadata": {},
   "outputs": [],
   "source": [
    "import cv2\n",
    "import numpy as np"
   ]
  },
  {
   "cell_type": "code",
   "execution_count": null,
   "id": "f09b56df",
   "metadata": {},
   "outputs": [],
   "source": [
    "#trackbar oluşturma(RGB RENK BULUCU)\n",
    "\n",
    "\n",
    "def nothing(x):\n",
    "    pass\n",
    "\n",
    "img=np.zeros((512,512,3),np.uint8)\n",
    "cv2.namedWindow('image')\n",
    "\n",
    "cv2.createTrackbar(\"R\",'image',0,255,nothing)  #createTrackbar( isim,pencere,değer aralığı,fonksiyon)\n",
    "cv2.createTrackbar(\"G\",'image',0,255,nothing)\n",
    "cv2.createTrackbar(\"B\",'image',0,255,nothing)\n",
    "switch='0: OFF, 1: ON'\n",
    "cv2.createTrackbar(switch,'image',0,1,nothing)\n",
    "\n",
    "while True:\n",
    "    cv2.imshow('image',img)\n",
    "    \n",
    "    if cv2.waitKey(1) & 0xFF==ord('q'):\n",
    "        break\n",
    "        \n",
    "    r=cv2.getTrackbarPos('R','image')\n",
    "    g=cv2.getTrackbarPos('G','image')\n",
    "    b=cv2.getTrackbarPos('B','image')\n",
    "    s=cv2.getTrackbarPos(switch,'image')\n",
    "    \n",
    "    if s==0:\n",
    "        img[:]=[0,0,0]\n",
    "    if s==1:\n",
    "        img[:]=[b,g,r]\n",
    "        \n",
    "cv2.destroyAllWindows()"
   ]
  },
  {
   "cell_type": "code",
   "execution_count": null,
   "id": "f76f4b47",
   "metadata": {},
   "outputs": [],
   "source": []
  },
  {
   "cell_type": "code",
   "execution_count": null,
   "id": "cf134061",
   "metadata": {},
   "outputs": [],
   "source": [
    "#TEMEL İŞLEMLER"
   ]
  },
  {
   "cell_type": "code",
   "execution_count": 1,
   "id": "f9b95a43",
   "metadata": {},
   "outputs": [],
   "source": [
    "import cv2\n",
    "import numpy as np"
   ]
  },
  {
   "cell_type": "code",
   "execution_count": 2,
   "id": "7242926b",
   "metadata": {},
   "outputs": [
    {
     "name": "stdout",
     "output_type": "stream",
     "text": [
      "(426, 640, 3)\n"
     ]
    }
   ],
   "source": [
    "#piksel işlemleri\n",
    "\n",
    "\n",
    "img=cv2.imread('klon.jpg')\n",
    "\n",
    "dimension=img.shape  #resmin kaça kaçlık olduğunu döner\n",
    "print(dimension)\n",
    "\n",
    "cv2.imshow('image',img)\n",
    "cv2.waitKey(0); cv2.destroyAllWindows()"
   ]
  },
  {
   "cell_type": "code",
   "execution_count": null,
   "id": "bae03e6d",
   "metadata": {},
   "outputs": [
    {
     "name": "stdout",
     "output_type": "stream",
     "text": [
      "[160 153 144]\n"
     ]
    }
   ],
   "source": [
    "img=cv2.imread('klon.jpg')\n",
    "\n",
    "color=img[150,200] #belirli bir pikselin BGR değerlerine(mavi,yeşil,kırmızı) erişmek\n",
    "print(color)\n",
    "\n",
    "cv2.imshow('image',img)\n",
    "cv2.waitKey(0); cv2.destroyAllWindows()"
   ]
  },
  {
   "cell_type": "code",
   "execution_count": 2,
   "id": "5085097f",
   "metadata": {},
   "outputs": [
    {
     "name": "stdout",
     "output_type": "stream",
     "text": [
      "160\n"
     ]
    }
   ],
   "source": [
    "img=cv2.imread('klon.jpg')\n",
    "\n",
    "blue=img[150,200][0]  #belirli bir pikselin mavi değerine erişmek \n",
    "#alternatif  blue=img[150,200,0]\n",
    "print(blue)\n",
    "\n",
    "cv2.imshow('image',img)\n",
    "cv2.waitKey(0); cv2.destroyAllWindows()"
   ]
  },
  {
   "cell_type": "code",
   "execution_count": null,
   "id": "36712404",
   "metadata": {},
   "outputs": [
    {
     "name": "stdout",
     "output_type": "stream",
     "text": [
      "250\n"
     ]
    }
   ],
   "source": [
    "img=cv2.imread('klon.jpg')\n",
    "\n",
    "img[150,200,0]= 250  #belirli bir pikselin mavi değerini değiştirmek\n",
    "#alternatif img.itemset((150,200,0),172)  argüman:(piksel koordinatı,yeni değer)\n",
    "print(img[150,200,0])\n",
    "\n",
    "cv2.imshow('image',img)\n",
    "cv2.waitKey(0); cv2.destroyAllWindows()"
   ]
  },
  {
   "cell_type": "code",
   "execution_count": null,
   "id": "cc6a5536",
   "metadata": {},
   "outputs": [],
   "source": []
  },
  {
   "cell_type": "code",
   "execution_count": 1,
   "id": "96356430",
   "metadata": {},
   "outputs": [],
   "source": [
    "import cv2\n",
    "import numpy as np"
   ]
  },
  {
   "cell_type": "code",
   "execution_count": 2,
   "id": "d475458f",
   "metadata": {},
   "outputs": [],
   "source": [
    "# roi: region of interest: ilgili alan"
   ]
  },
  {
   "cell_type": "code",
   "execution_count": null,
   "id": "d79b792f",
   "metadata": {},
   "outputs": [],
   "source": [
    "img=cv2.imread('klon.jpg')\n",
    "\n",
    "roi =img[30:200,200:400]\n",
    "cv2.imshow('roi',roi)\n",
    "\n",
    "cv2.imshow('image',img)\n",
    "cv2.waitKey(0); cv2.destroyAllWindows()"
   ]
  },
  {
   "cell_type": "code",
   "execution_count": null,
   "id": "d83051b8",
   "metadata": {},
   "outputs": [],
   "source": []
  },
  {
   "cell_type": "code",
   "execution_count": 1,
   "id": "0d5a8199",
   "metadata": {},
   "outputs": [],
   "source": [
    "import cv2\n",
    "import numpy as np"
   ]
  },
  {
   "cell_type": "code",
   "execution_count": null,
   "id": "b457efe5",
   "metadata": {},
   "outputs": [],
   "source": [
    "#resimler üzerinde toplama işlemi\n",
    "\n",
    "#iki adet resim oluşturuyoruz\n",
    "circle=np.zeros((512,512,3),np.uint8)+255\n",
    "cv2.circle(circle,(256,256),60,(255,0,0),-1)\n",
    "rectangle=np.zeros((512,512,3),np.uint8)+255\n",
    "cv2.rectangle(rectangle,(150,150),(350,350),(0,0,255),-1)\n",
    "\n",
    "add=cv2.add(circle,rectangle)  #piksellerin BGR değerleri toplanır.\n",
    "\n",
    "cv2.imshow('image',add)\n",
    "cv2.waitKey(0); cv2.destroyAllWindows()"
   ]
  },
  {
   "cell_type": "code",
   "execution_count": null,
   "id": "0076fbfa",
   "metadata": {},
   "outputs": [],
   "source": [
    "#ağırlıklı toplama ( f(x,y) = x*a + y*b + c  )\n",
    "\n",
    "circle=np.zeros((512,512,3),np.uint8)+255\n",
    "cv2.circle(circle,(256,256),60,(255,0,0),-1)\n",
    "rectangle=np.zeros((512,512,3),np.uint8)+255\n",
    "cv2.rectangle(rectangle,(150,150),(350,350),(0,0,255),-1)\n",
    "\n",
    "dst=cv2.addWeighted(circle,0.7,rectangle,0.3,0) # addWeight(resim1,resim1ağırlığı,resim2,resim2ağırlığı,sabitsayı(c))\n",
    "\n",
    "cv2.imshow('image',dst)\n",
    "cv2.waitKey(0); cv2.destroyAllWindows()"
   ]
  },
  {
   "cell_type": "code",
   "execution_count": null,
   "id": "38aa2b16",
   "metadata": {},
   "outputs": [],
   "source": []
  },
  {
   "cell_type": "code",
   "execution_count": 1,
   "id": "d2214cdb",
   "metadata": {},
   "outputs": [],
   "source": [
    "import cv2\n",
    "import numpy as np"
   ]
  },
  {
   "cell_type": "code",
   "execution_count": null,
   "id": "9fe985ce",
   "metadata": {},
   "outputs": [],
   "source": [
    "#RENK UZAYI\n",
    "\n",
    "\n",
    "img=cv2.imread('klon.jpg')\n",
    "# görüntü şuan BGR formatında bu değiştirilir ancak bozulmalar meydana gelebilir.\n",
    "cv2.imshow('image',img)\n",
    "cv2.waitKey(0); cv2.destroyAllWindows()"
   ]
  },
  {
   "cell_type": "code",
   "execution_count": null,
   "id": "86649331",
   "metadata": {},
   "outputs": [],
   "source": [
    "#resmi BGR'dan RGB'ye dönüştürme\n",
    "\n",
    "img=cv2.imread('klon.jpg')\n",
    "\n",
    "img1=cv2.cvtColor(img,cv2.COLOR_BGR2RGB) #BGR to RGB \n",
    "\n",
    "cv2.imshow('image',img1)\n",
    "cv2.waitKey(0); cv2.destroyAllWindows()"
   ]
  },
  {
   "cell_type": "code",
   "execution_count": null,
   "id": "e4e2d17f",
   "metadata": {},
   "outputs": [],
   "source": [
    "#diğer uzaylar\n",
    "img=cv2.imread('klon.jpg')\n",
    "\n",
    "img_hsv=cv2.cvtColor(img,cv2.COLOR_BGR2HSV) #BGR to HSV \n",
    "img_gray=cv2.cvtColor(img,cv2.COLOR_BGR2GRAY) #BGR to GRAY\n",
    "\n",
    "cv2.imshow('hsv',img_hsv)\n",
    "cv2.imshow('grayscale',img_gray)\n",
    "\n",
    "cv2.waitKey(0); cv2.destroyAllWindows()"
   ]
  },
  {
   "cell_type": "code",
   "execution_count": null,
   "id": "fb64cf19",
   "metadata": {},
   "outputs": [],
   "source": []
  },
  {
   "cell_type": "code",
   "execution_count": 1,
   "id": "2554a670",
   "metadata": {},
   "outputs": [],
   "source": [
    "import cv2\n",
    "import numpy as np"
   ]
  },
  {
   "cell_type": "code",
   "execution_count": 2,
   "id": "62dec5db",
   "metadata": {},
   "outputs": [],
   "source": [
    "#Videonun renk uzayını dönüştürmek\n",
    "\n",
    "\n",
    "cap=cv2.VideoCapture('smile.mp4')\n",
    "while True:\n",
    "    ret,frame=cap.read()\n",
    "    \n",
    "    frame=cv2.cvtColor(frame,cv2.COLOR_BGR2GRAY) #DÖNÜŞÜM İŞLEMİ\n",
    "    \n",
    "    if ret==False:\n",
    "        break\n",
    "    cv2.imshow('Video',frame)\n",
    "    if cv2.waitKey(30) & 0xFF ==ord('q'):\n",
    "        break\n",
    "cap.release()\n",
    "cv2.destroyAllWindows()"
   ]
  },
  {
   "cell_type": "code",
   "execution_count": null,
   "id": "6c335fb5",
   "metadata": {},
   "outputs": [],
   "source": []
  },
  {
   "cell_type": "code",
   "execution_count": 1,
   "id": "88b91125",
   "metadata": {},
   "outputs": [],
   "source": [
    "import cv2\n",
    "import numpy as np"
   ]
  },
  {
   "cell_type": "code",
   "execution_count": 2,
   "id": "18ebd8c2",
   "metadata": {},
   "outputs": [],
   "source": [
    "#Renklerin HSV kodlarını bulmak için Trackbar\n",
    "\n",
    "\n",
    "cap=cv2.VideoCapture(0) \n",
    "\n",
    "def nothing(x):\n",
    "    pass\n",
    "\n",
    "cv2.namedWindow('Trackbar')\n",
    "cv2.resizeWindow('Trackbar',500,500)\n",
    "\n",
    "cv2.createTrackbar('Lower - H',\"Trackbar\",0,180,nothing) #createTrackbar( isim,pencere,değer aralığı,fonksiyon)\n",
    "cv2.createTrackbar('Lower - S',\"Trackbar\",0,255,nothing)\n",
    "cv2.createTrackbar('Lower - V',\"Trackbar\",0,255,nothing)\n",
    "\n",
    "cv2.createTrackbar('Upper - H',\"Trackbar\",0,180,nothing)\n",
    "cv2.createTrackbar('Upper - S',\"Trackbar\",0,255,nothing)\n",
    "cv2.createTrackbar('Upper - V',\"Trackbar\",0,255,nothing)\n",
    "\n",
    "cv2.setTrackbarPos('Upper - H',\"Trackbar\",180) #setTrackbarPos(isim,pencere,değer)\n",
    "cv2.setTrackbarPos('Upper - S',\"Trackbar\",255)\n",
    "cv2.setTrackbarPos('Upper - V',\"Trackbar\",255) \n",
    "\n",
    "while True:\n",
    "    ret,frame=cap.read()\n",
    "    frame=cv2.flip(frame,1) #görüntü yansıması\n",
    "    frame_hsv=cv2.cvtColor(frame,cv2.COLOR_BGR2HSV)  \n",
    "    \n",
    "    lower_h=cv2.getTrackbarPos('Lower - H', 'Trackbar')\n",
    "    lower_s=cv2.getTrackbarPos('Lower - S', 'Trackbar')\n",
    "    lower_v=cv2.getTrackbarPos('Lower - V', 'Trackbar')\n",
    "    \n",
    "    upper_h=cv2.getTrackbarPos('Upper - H', 'Trackbar')\n",
    "    upper_s=cv2.getTrackbarPos('Upper - S', 'Trackbar')\n",
    "    upper_v=cv2.getTrackbarPos('Upper - V', 'Trackbar')\n",
    "    \n",
    "    lower_color=np.array([lower_h,lower_s,lower_v])\n",
    "    upper_color=np.array([upper_h,upper_s,upper_v])\n",
    "    \n",
    "    mask= cv2.inRange(frame_hsv,lower_color,upper_color)\n",
    "    \n",
    "    cv2.imshow('Original',frame)\n",
    "    cv2.imshow('Mask',mask)\n",
    "    \n",
    "    if cv2.waitKey(20) & 0xFF==ord('q'):\n",
    "        break\n",
    "cap.release()\n",
    "cv2.destroyAllWindows()"
   ]
  },
  {
   "cell_type": "code",
   "execution_count": null,
   "id": "08288016",
   "metadata": {},
   "outputs": [],
   "source": []
  },
  {
   "cell_type": "code",
   "execution_count": null,
   "id": "e84e9d47",
   "metadata": {},
   "outputs": [],
   "source": [
    "import cv2\n",
    "import numpy as np"
   ]
  },
  {
   "cell_type": "code",
   "execution_count": null,
   "id": "fba1651a",
   "metadata": {},
   "outputs": [],
   "source": [
    "#Smoothing images:resimdeki gürültüyü,pürüzü azaltmak,yumuşak hale getirmek için filtre\n",
    "\n",
    "#gaussian blur kullanımı\n",
    "img_filter=cv2.imread('filter.png')\n",
    "img_median=cv2.imread('median.png')\n",
    "img_bilateral=cv2.imread('bilateral.png')\n",
    "\n",
    "blur = cv2.blur(img_filter,(5,5)) #pozitif tek sayı olmalı örn:5\n",
    "blur_g=cv2.GaussianBlur(img_filter,(11,11),cv2.BORDER_DEFAULT) #BORDER_DEFAULT:sınır çizgisiyle alakalı\n",
    "\n",
    "cv2.imshow('original',img_filter)\n",
    "cv2.imshow('blur',blur)\n",
    "cv2.imshow('blur_g',blur_g)\n",
    "\n",
    "\n",
    "cv2.waitKey(0); cv2.destroyAllWindows()"
   ]
  },
  {
   "cell_type": "code",
   "execution_count": null,
   "id": "b261f0ed",
   "metadata": {},
   "outputs": [],
   "source": [
    "#median blur kullanımı\n",
    "img_median=cv2.imread('median.png')\n",
    "\n",
    "blur_m=cv2.medianBlur(img_median,5) #5:kernel size\n",
    "\n",
    "cv2.imshow('original',img_median)\n",
    "cv2.imshow('blur_m',blur_m)\n",
    "\n",
    "cv2.waitKey(0); cv2.destroyAllWindows()"
   ]
  },
  {
   "cell_type": "code",
   "execution_count": null,
   "id": "c3285359",
   "metadata": {},
   "outputs": [],
   "source": [
    "#bilateral kullanımı\n",
    "\n",
    "img_bilateral=cv2.imread('bilateral.png')\n",
    "\n",
    "blur_b=cv2.bilateralFilter(img_bilateral,9,75,75) # 9,75,75:piksel dönüşüm değerleri\n",
    "\n",
    "cv2.imshow('original',img_bilateral)\n",
    "cv2.imshow('blur_b',blur_b)\n",
    "\n",
    "cv2.waitKey(0); cv2.destroyAllWindows()"
   ]
  },
  {
   "cell_type": "code",
   "execution_count": null,
   "id": "452621d3",
   "metadata": {},
   "outputs": [],
   "source": []
  },
  {
   "cell_type": "code",
   "execution_count": 1,
   "id": "ae3daf37",
   "metadata": {},
   "outputs": [],
   "source": [
    "import cv2\n",
    "import numpy as np"
   ]
  },
  {
   "cell_type": "code",
   "execution_count": 2,
   "id": "b2d97fa6",
   "metadata": {},
   "outputs": [],
   "source": [
    "#Bitwise işlemleri\n",
    "\n",
    "\n",
    "img1=cv2.imread('bitwise_1.png')\n",
    "img2=cv2.imread('bitwise_2.png')\n",
    "\n",
    "bit_and=cv2.bitwise_and(img2,img1) # AND bağlacı ile birleştirdi **** 0 AND 1= 0 **** 1 AND 1= 1 gibi... \n",
    "#bitwise_or,bitwise_xor, bitwise_not...\n",
    "\n",
    "cv2.imshow('bit_and',bit_and)\n",
    "cv2.imshow('img1',img1)\n",
    "cv2.imshow('img2',img2)\n",
    "cv2.waitKey(0); cv2.destroyAllWindows()"
   ]
  },
  {
   "cell_type": "code",
   "execution_count": null,
   "id": "153e6a12",
   "metadata": {},
   "outputs": [],
   "source": []
  },
  {
   "cell_type": "code",
   "execution_count": 3,
   "id": "8c300479",
   "metadata": {},
   "outputs": [],
   "source": [
    "import cv2\n",
    "import numpy as np"
   ]
  },
  {
   "cell_type": "code",
   "execution_count": null,
   "id": "f281ef4c",
   "metadata": {},
   "outputs": [],
   "source": [
    "#Resmin dönüşüm dizeyi(matrix)\n",
    "\n",
    "\n",
    "#resmi kesip kaydıracağız\n",
    "img=cv2.imread('klon.jpg',0)  #0:siyah beyaz okur\n",
    "row,col = img.shape\n",
    "\n",
    "M= np.float32([[1,0,10],[0,1,70]]) #matris tanımı \n",
    "\n",
    "dst= cv2.warpAffine(img,M,(row,col)) #warpAffine(resim,matris,satır-sütun):resmi istediğimiz kadar kaydırma fonksiyonu\n",
    "cv2.imshow('dst',dst)\n",
    "cv2.waitKey(0); cv2.destroyAllWindows()"
   ]
  },
  {
   "cell_type": "code",
   "execution_count": null,
   "id": "363ffeb8",
   "metadata": {},
   "outputs": [],
   "source": []
  },
  {
   "cell_type": "code",
   "execution_count": 1,
   "id": "6c44e7fe",
   "metadata": {},
   "outputs": [],
   "source": [
    "import cv2\n",
    "import numpy as np"
   ]
  },
  {
   "cell_type": "code",
   "execution_count": null,
   "id": "f2a43843",
   "metadata": {},
   "outputs": [],
   "source": [
    "#Resmi döndürme\n",
    "\n",
    "\n",
    "img=cv2.imread('klon.jpg',0)  #0:siyah beyaz okur\n",
    "row,col = img.shape\n",
    "\n",
    "M= cv2.getRotationMatrix2D((col/2,row/2),90,1) #getRotationMatrix2D(sütun-satır,yönaçısı,ölçek)\n",
    "dst=cv2.warpAffine(img,M,(col,row))\n",
    "\n",
    "cv2.imshow('dst',dst)\n",
    "cv2.waitKey(0); cv2.destroyAllWindows()"
   ]
  },
  {
   "cell_type": "code",
   "execution_count": null,
   "id": "ef636b41",
   "metadata": {},
   "outputs": [],
   "source": []
  },
  {
   "cell_type": "code",
   "execution_count": 1,
   "id": "60c76643",
   "metadata": {},
   "outputs": [],
   "source": [
    "import cv2\n",
    "import numpy as np"
   ]
  },
  {
   "cell_type": "code",
   "execution_count": null,
   "id": "dacbecd5",
   "metadata": {},
   "outputs": [],
   "source": [
    "#Thresholding : eşik değere göre piksel filtreleme\n",
    "\n",
    "\n",
    "img=cv2.imread('klon.jpg',0)\n",
    "\n",
    "ret,th1=cv2.threshold(img,127,255,cv2.THRESH_BINARY) #threshold(resim,aralık)\n",
    "th2=cv2.adaptiveThreshold(img,255,cv2.ADAPTIVE_THRESH_MEAN_C,cv2.THRESH_BINARY,11,2) #dökümantasyonda bu tarz fonksiyonlar mevcut\n",
    "th3=cv2.adaptiveThreshold(img,255,cv2.ADAPTIVE_THRESH_GAUSSIAN_C,cv2.THRESH_BINARY,11,2)\n",
    "\n",
    "cv2.imshow('img',img)\n",
    "cv2.imshow('img-th1',th1)\n",
    "cv2.imshow('img-th2',th2)\n",
    "cv2.imshow('img-th3',th3)\n",
    "cv2.waitKey(0); cv2.destroyAllWindows()"
   ]
  },
  {
   "cell_type": "code",
   "execution_count": null,
   "id": "d15bfca1",
   "metadata": {},
   "outputs": [],
   "source": []
  },
  {
   "cell_type": "code",
   "execution_count": 1,
   "id": "ab7b668b",
   "metadata": {},
   "outputs": [],
   "source": [
    "import cv2\n",
    "import numpy as np"
   ]
  },
  {
   "cell_type": "code",
   "execution_count": null,
   "id": "cf3cb877",
   "metadata": {},
   "outputs": [],
   "source": [
    "#Morfolojik dönüşümler\n",
    "\n",
    "\n",
    "#erozyon yöntemi: resmi erozyona uğratır\n",
    "img=cv2.imread('klon.jpg')\n",
    "\n",
    "kernel=np.ones((5,5),np.uint8)\n",
    "erosion=cv2.erode(img,kernel,iterations=2) #erode(resim,matris,tekrar)\n",
    "\n",
    "cv2.imshow('img',img)\n",
    "cv2.imshow('erosion',erosion)\n",
    "cv2.waitKey(0); cv2.destroyAllWindows()"
   ]
  },
  {
   "cell_type": "code",
   "execution_count": null,
   "id": "cef73628",
   "metadata": {},
   "outputs": [],
   "source": [
    "#dilation yöntemi :kalınlaştırır\n",
    "img=cv2.imread('klon.jpg')\n",
    "\n",
    "kernel=np.ones((5,5),np.uint8)\n",
    "dilation=cv2.dilate(img,kernel,iterations=2) #dilate(resim,matris,tekrar)\n",
    "\n",
    "cv2.imshow('img',img)\n",
    "cv2.imshow('dilation',dilation)\n",
    "cv2.waitKey(0); cv2.destroyAllWindows()"
   ]
  },
  {
   "cell_type": "code",
   "execution_count": null,
   "id": "0238d6df",
   "metadata": {},
   "outputs": [],
   "source": [
    "#morphologyEx yöntemi:resmin üzerindeki gürültüyü kaldırır\n",
    "img=cv2.imread('klon.jpg')\n",
    "\n",
    "kernel=np.ones((5,5),np.uint8)\n",
    "opening=cv2.morphologyEx(img,cv2.MORPH_OPEN,kernel) #dilate(resim,bayrak,matris)\n",
    "#closing=cv2.morphologyEx(img,cv2.MORPH_CLOSE,kernel)   \n",
    "#gradient=cv2.morphologyEx(img,cv2.MORPH_GRADIENT,kernel)   \n",
    "\n",
    "cv2.imshow('img',img)\n",
    "cv2.imshow('opening',opening)\n",
    "cv2.waitKey(0); cv2.destroyAllWindows()"
   ]
  },
  {
   "cell_type": "code",
   "execution_count": null,
   "id": "f6a560f0",
   "metadata": {},
   "outputs": [],
   "source": []
  },
  {
   "cell_type": "code",
   "execution_count": null,
   "id": "e215ea92",
   "metadata": {},
   "outputs": [],
   "source": [
    "import cv2\n",
    "import numpy as np\n",
    "from matplotlib import pyplot as plt "
   ]
  },
  {
   "cell_type": "code",
   "execution_count": null,
   "id": "271f48cc",
   "metadata": {},
   "outputs": [],
   "source": [
    "#Histogram\n",
    "\n",
    "#resmin piksel dağılımının görselleştirmesi\n",
    "img=np.zeros((500,500),np.uint8)\n",
    "\n",
    "cv2.imshow('img',img)\n",
    "plt.hist(img.ravel(),256,[0,256]) #hist(resim,matrisi tek satıra çeviren ravel fonksiyonu,kaç değer olduğu,değer aralığı)\n",
    "plt.show()\n",
    "cv2.waitKey(0); cv2.destroyAllWindows()"
   ]
  },
  {
   "cell_type": "code",
   "execution_count": null,
   "id": "e45ee6a0",
   "metadata": {},
   "outputs": [
    {
     "data": {
      "image/png": "[encoded data removed]",
      "text/plain": [
       "<Figure size 432x288 with 1 Axes>"
      ]
     },
     "metadata": {
      "needs_background": "light"
     },
     "output_type": "display_data"
    }
   ],
   "source": [
    "img=cv2.imread('klon.jpg')\n",
    "cv2.imshow('img',img)\n",
    "\n",
    "plt.hist(img.ravel(),256,[0,256])\n",
    "plt.show()\n",
    "cv2.waitKey(0); cv2.destroyAllWindows()"
   ]
  },
  {
   "cell_type": "code",
   "execution_count": null,
   "id": "868084bf",
   "metadata": {},
   "outputs": [
    {
     "data": {
      "image/png": "[encoded data removed]",
      "text/plain": [
       "<Figure size 432x288 with 1 Axes>"
      ]
     },
     "metadata": {
      "needs_background": "light"
     },
     "output_type": "display_data"
    }
   ],
   "source": [
    "#BGR değerlerini gösterme\n",
    "img=cv2.imread('klon.jpg')\n",
    "\n",
    "b,g,r=cv2.split(img) # split:bgr değerlerine ayıran fonksiyon\n",
    "\n",
    "cv2.imshow('img',img)\n",
    "\n",
    "#plt.hist(img.ravel(),256,[0,256])\n",
    "plt.hist(b.ravel(),256,[0,256])\n",
    "plt.hist(g.ravel(),256,[0,256])\n",
    "plt.hist(r.ravel(),256,[0,256])\n",
    "plt.show()\n",
    "cv2.waitKey(0); cv2.destroyAllWindows()"
   ]
  },
  {
   "cell_type": "code",
   "execution_count": null,
   "id": "080e33c1",
   "metadata": {},
   "outputs": [],
   "source": []
  },
  {
   "cell_type": "code",
   "execution_count": 1,
   "id": "61ccc763",
   "metadata": {},
   "outputs": [],
   "source": [
    "import cv2\n",
    "import numpy as np"
   ]
  },
  {
   "cell_type": "code",
   "execution_count": null,
   "id": "999b93e1",
   "metadata": {},
   "outputs": [],
   "source": [
    "#Corner Detection \n",
    "\n",
    "#goodFeaturesToTrack\n",
    "img=cv2.imread('text.png')\n",
    "img1=cv2.imread('contour.png')\n",
    "\n",
    "gray=cv2.cvtColor(img,cv2.COLOR_BGR2GRAY)\n",
    "\n",
    "gray=np.float32(gray) #direkt işleme sokulamadığı için float32 dönüşümü gerekir\n",
    "corner=cv2.goodFeaturesToTrack(gray,50,0.01,10) #goodFeaturesToTrack(resim,maxkaçköşe,kalitedeğeri,minmesafe)\n",
    "\n",
    "corners=np.int0(corner) # çember çizerken float kullanamadığımız için tekrar dönüşüm gerekir\n",
    "for corner in corners:\n",
    "    x,y=corner.ravel()\n",
    "    cv2.circle(img,(x,y),3,(0,0,255),-1)\n",
    "    \n",
    "cv2.imshow('corner',img)\n",
    "cv2.waitKey(0); cv2.destroyAllWindows()"
   ]
  },
  {
   "cell_type": "code",
   "execution_count": 4,
   "id": "55c965d8",
   "metadata": {},
   "outputs": [],
   "source": [
    "#Canny kenar yöntemi\n",
    "\n",
    "cap=cv2.VideoCapture(0)\n",
    "\n",
    "while 1:\n",
    "    ret,frame=cap.read()\n",
    "    frame=cv2.flip(frame,1)\n",
    "    edges=cv2.Canny(frame,100,200) #Canny(resim,minthreshold,maxthreshold)\n",
    "    cv2.imshow('Frame',frame)\n",
    "    cv2.imshow('Edges',edges)\n",
    "    \n",
    "    if cv2.waitKey(5) & 0xFF ==ord('q'):\n",
    "        break\n",
    "cap.release()\n",
    "cv2.destroyAllWindows()"
   ]
  },
  {
   "cell_type": "code",
   "execution_count": null,
   "id": "b475f064",
   "metadata": {},
   "outputs": [],
   "source": []
  },
  {
   "cell_type": "code",
   "execution_count": null,
   "id": "dd7cbc3b",
   "metadata": {},
   "outputs": [],
   "source": []
  }
 ],
 "metadata": {
  "kernelspec": {
   "display_name": "Python 3",
   "language": "python",
   "name": "python3"
  },
  "language_info": {
   "codemirror_mode": {
    "name": "ipython",
    "version": 3
   },
   "file_extension": ".py",
   "mimetype": "text/x-python",
   "name": "python",
   "nbconvert_exporter": "python",
   "pygments_lexer": "ipython3",
   "version": "3.6.13"
  }
 },
 "nbformat": 4,
 "nbformat_minor": 5
}
