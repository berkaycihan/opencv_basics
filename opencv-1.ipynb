{
 "cells": [
  {
   "cell_type": "code",
   "execution_count": null,
   "id": "e19d9162",
   "metadata": {},
   "outputs": [],
   "source": [
    "import cv2"
   ]
  },
  {
   "cell_type": "code",
   "execution_count": 1,
   "id": "3b896a0c",
   "metadata": {},
   "outputs": [],
   "source": [
    "# resim gösterme \n",
    "\n",
    "img=cv2.imread('klon.jpg')    #resmi okuma  not:'0' argümanı eklenirse siyahbeyaz okunur\n",
    "cv2.namedWindow(\"image\",cv2.WINDOW_NORMAL)     #açılan pencere boyutunu değiştirilebilir yapma"
   ]
  },
  {
   "cell_type": "code",
   "execution_count": null,
   "id": "a6a8930e",
   "metadata": {},
   "outputs": [],
   "source": [
    "cv2.imshow(\"image\",img)    #resmi gösterme\n",
    "cv2.imwrite(\"klon1.jpg\",img)    #resmi kaydetme\n",
    "cv2.waitKey(0) ; cv2.destroyAllWindows()"
   ]
  },
  {
   "cell_type": "code",
   "execution_count": null,
   "id": "2ab72071",
   "metadata": {},
   "outputs": [],
   "source": []
  },
  {
   "cell_type": "code",
   "execution_count": null,
   "id": "2d9f294d",
   "metadata": {},
   "outputs": [],
   "source": [
    "import cv2"
   ]
  },
  {
   "cell_type": "code",
   "execution_count": null,
   "id": "bc9cd557",
   "metadata": {},
   "outputs": [],
   "source": [
    "#yeniden boyutlandırma\n",
    "\n",
    "img=cv2.imread('klon.jpg')\n",
    "img=cv2.resize(img,(640,480))  #yeniden boyutlandırma\n",
    "cv2.imshow('img',img)\n",
    "cv2.waitKey(0);cv2.destroyAllWindows()"
   ]
  },
  {
   "cell_type": "code",
   "execution_count": null,
   "id": "81eec218",
   "metadata": {},
   "outputs": [],
   "source": []
  },
  {
   "cell_type": "code",
   "execution_count": 1,
   "id": "e00b86b0",
   "metadata": {},
   "outputs": [],
   "source": [
    "import cv2"
   ]
  },
  {
   "cell_type": "code",
   "execution_count": 2,
   "id": "d508231c",
   "metadata": {},
   "outputs": [],
   "source": [
    "# en boy oranını koruyarak yeniden boyutlandırma\n",
    "\n",
    "def resizewithAspectRatio(img,width=None,height=None,inter=cv2.INTER_AREA):    #INTERAREA:boyut hatası olmaması için\n",
    "    dimension=None\n",
    "    (h,w)=img.shape[:2]\n",
    "    \n",
    "    if width is None and height is None:\n",
    "        return img\n",
    "    if width is None:\n",
    "        r=height/float(h)\n",
    "        dimension= (int(w*r),height)\n",
    "    else:\n",
    "        r = width / float(w)\n",
    "        dimension= (width, int(h*r))\n",
    "    \n",
    "    return cv2.resize(img,dimension,interpolation=inter)"
   ]
  },
  {
   "cell_type": "code",
   "execution_count": null,
   "id": "5a79e07b",
   "metadata": {},
   "outputs": [],
   "source": [
    "img=cv2.imread('klon.jpg')\n",
    "img1=resizewithAspectRatio(img,width=None,height=600,inter=cv2.INTER_AREA)\n",
    "cv2.imshow('Original',img)\n",
    "cv2.imshow('Resized',img1)\n",
    "cv2.waitKey(0);cv2.destroyAllWindows\n"
   ]
  },
  {
   "cell_type": "code",
   "execution_count": null,
   "id": "54b86d76",
   "metadata": {},
   "outputs": [],
   "source": []
  },
  {
   "cell_type": "code",
   "execution_count": 1,
   "id": "86300f71",
   "metadata": {},
   "outputs": [],
   "source": [
    "import cv2"
   ]
  },
  {
   "cell_type": "code",
   "execution_count": 2,
   "id": "ee853c46",
   "metadata": {},
   "outputs": [],
   "source": [
    "cap = cv2.VideoCapture(0)     # 0:webcam / 1:haricikamera / 'smile.mp4':video"
   ]
  },
  {
   "cell_type": "code",
   "execution_count": null,
   "id": "d5aba29b",
   "metadata": {},
   "outputs": [],
   "source": [
    "#webcamden gösterme\n",
    "\n",
    "while True:\n",
    "    ret,frame=cap.read()     #ret:doğru okuduysa TRUE okuyamadıysa FALSE döner frame:kare\n",
    "    frame = cv2.flip(frame,1)  #flip:kareyi yansıtma fonksiyonu\n",
    "    cv2.imshow('webcam',frame)\n",
    "    if cv2.waitKey(1) & 0xFF==ord(\"q\"):\n",
    "        break\n",
    "    \n",
    "cap.release() # serbest bırakıp kapatıyoruz\n",
    "cv2.destroyAllWindows()"
   ]
  },
  {
   "cell_type": "code",
   "execution_count": null,
   "id": "c0563226",
   "metadata": {},
   "outputs": [],
   "source": [
    "#videodan gösterme\n",
    "\n",
    "cap = cv2.VideoCapture('smile.mp4')   \n",
    "while True:\n",
    "    ret,frame=cap.read()\n",
    "    if ret==0:   #videodaki framelerden 0 dönerse çık\n",
    "        break  \n",
    "    cv2.imshow('video',frame)\n",
    "    if cv2.waitKey(15) & 0xFF==ord(\"q\"):\n",
    "        break\n",
    "    \n",
    "cap.release() \n",
    "cv2.destroyAllWindows()\n",
    "    "
   ]
  },
  {
   "cell_type": "code",
   "execution_count": 2,
   "id": "25e1e97a",
   "metadata": {},
   "outputs": [],
   "source": [
    "#webcamden kaydetme\n",
    "\n",
    "cap=cv2.VideoCapture(0) #kamera nesnesi\n",
    "\n",
    "fileName='Webcam.avi' #videonun adı\n",
    "codec=cv2.VideoWriter_fourcc('W','M','V','2') #ses ve görüntüyü birleştirmek için bulunan çeşitli algoritmalardan birini seçiyoruz.\n",
    "frameRate=30  #fps\n",
    "resolution=(640,480)  #çözünürlük\n",
    "\n",
    "videoFileOutput= cv2.VideoWriter(fileName,codec,frameRate,resolution) #kaydetme ayarları\n",
    "\n",
    "while True:\n",
    "    ret,frame=cap.read()\n",
    "    frame = cv2.flip(frame,1)\n",
    "    videoFileOutput.write(frame)\n",
    "    cv2.imshow('webcam Live',frame)\n",
    "    if cv2.waitKey(1) & 0xFF== ord(\"q\"):\n",
    "        break\n",
    "videoFileOutput.release()\n",
    "cap.release()\n",
    "cv2.destroyAllWindows()"
   ]
  },
  {
   "cell_type": "code",
   "execution_count": null,
   "id": "874379fc",
   "metadata": {},
   "outputs": [],
   "source": [
    "# telefon kamerasından görüntü alma\n",
    "\n",
    "import cv2\n",
    "import requests\n",
    "import numpy as np\n",
    "\n",
    "url='http://192.168.1.10:8888/video' #ip webcam uygulamasındaN alınan url\n",
    "\n",
    "while True:\n",
    "    img_resp=requests.get(url)\n",
    "    img_arr=np.array(bytearray(img_resp.content),dtype=np.uint8)   #aldığımız görüntüyü array içinde tutuyoruz\n",
    "    img=cv2.imdecode(img_arr,cv2.IMREAD_COLOR)   #hafızadan çekileni görüntülenebilir hale getirelim imreadcolor:renkli\n",
    "    img=cv2.resize(img,(640,480))\n",
    "    \n",
    "    cv2.imshow('myMobilePhoneCamera',img)\n",
    "    \n",
    "    if cv2.waitKey(1)==27:\n",
    "        break\n",
    "    \n",
    "cv2.destroyAllWindows()\n",
    "    "
   ]
  }
 ],
 "metadata": {
  "kernelspec": {
   "display_name": "Python 3",
   "language": "python",
   "name": "python3"
  },
  "language_info": {
   "codemirror_mode": {
    "name": "ipython",
    "version": 3
   },
   "file_extension": ".py",
   "mimetype": "text/x-python",
   "name": "python",
   "nbconvert_exporter": "python",
   "pygments_lexer": "ipython3",
   "version": "3.6.13"
  }
 },
 "nbformat": 4,
 "nbformat_minor": 5
}
