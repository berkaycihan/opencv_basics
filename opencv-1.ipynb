{
 "cells": [
  {
   "cell_type": "code",
   "execution_count": null,
   "id": "32ed4835",
   "metadata": {},
   "outputs": [],
   "source": [
    "import cv2"
   ]
  },
  {
   "cell_type": "code",
   "execution_count": 1,
   "id": "7e14bffb",
   "metadata": {},
   "outputs": [],
   "source": [
    "# resim gösterme \n",
    "\n",
    "img=cv2.imread('klon.jpg')    #resmi okuma  not:'0' argümanı eklenirse siyahbeyaz okunur\n",
    "cv2.namedWindow(\"image\",cv2.WINDOW_NORMAL)     #açılan pencere boyutunu değiştirilebilir yapma"
   ]
  },
  {
   "cell_type": "code",
   "execution_count": null,
   "id": "3e200ee6",
   "metadata": {},
   "outputs": [],
   "source": [
    "cv2.imshow(\"image\",img)    #resmi gösterme\n",
    "cv2.imwrite(\"klon1.jpg\",img)    #resmi kaydetme\n",
    "cv2.waitKey(0) ; cv2.destroyAllWindows()"
   ]
  },
  {
   "cell_type": "code",
   "execution_count": null,
   "id": "33130329",
   "metadata": {},
   "outputs": [],
   "source": []
  },
  {
   "cell_type": "code",
   "execution_count": null,
   "id": "de913311",
   "metadata": {},
   "outputs": [],
   "source": [
    "import cv2"
   ]
  },
  {
   "cell_type": "code",
   "execution_count": null,
   "id": "e5dea06f",
   "metadata": {},
   "outputs": [],
   "source": [
    "#yeniden boyutlandırma\n",
    "\n",
    "img=cv2.imread('klon.jpg')\n",
    "img=cv2.resize(img,(640,480))  #yeniden boyutlandırma\n",
    "cv2.imshow('img',img)\n",
    "cv2.waitKey(0);cv2.destroyAllWindows()"
   ]
  },
  {
   "cell_type": "code",
   "execution_count": null,
   "id": "bc84a38f",
   "metadata": {},
   "outputs": [],
   "source": []
  },
  {
   "cell_type": "code",
   "execution_count": 1,
   "id": "2462a21f",
   "metadata": {},
   "outputs": [],
   "source": [
    "import cv2"
   ]
  },
  {
   "cell_type": "code",
   "execution_count": 2,
   "id": "263f5a7b",
   "metadata": {},
   "outputs": [],
   "source": [
    "# en boy oranını koruyarak yeniden boyutlandırma\n",
    "\n",
    "def resizewithAspectRatio(img,width=None,height=None,inter=cv2.INTER_AREA):    #INTERAREA:boyut hatası olmaması için\n",
    "    dimension=None\n",
    "    (h,w)=img.shape[:2]\n",
    "    \n",
    "    if width is None and height is None:\n",
    "        return img\n",
    "    if width is None:\n",
    "        r=height/float(h)\n",
    "        dimension= (int(w*r),height)\n",
    "    else:\n",
    "        r = width / float(w)\n",
    "        dimension= (width, int(h*r))\n",
    "    \n",
    "    return cv2.resize(img,dimension,interpolation=inter)"
   ]
  },
  {
   "cell_type": "code",
   "execution_count": null,
   "id": "ce433ae6",
   "metadata": {},
   "outputs": [],
   "source": [
    "img=cv2.imread('klon.jpg')\n",
    "img1=resizewithAspectRatio(img,width=None,height=600,inter=cv2.INTER_AREA)\n",
    "cv2.imshow('Original',img)\n",
    "cv2.imshow('Resized',img1)\n",
    "cv2.waitKey(0);cv2.destroyAllWindows\n"
   ]
  },
  {
   "cell_type": "code",
   "execution_count": null,
   "id": "c7a7664f",
   "metadata": {},
   "outputs": [],
   "source": []
  },
  {
   "cell_type": "code",
   "execution_count": 1,
   "id": "5dd7d33f",
   "metadata": {},
   "outputs": [],
   "source": [
    "import cv2"
   ]
  },
  {
   "cell_type": "code",
   "execution_count": 2,
   "id": "fe06852b",
   "metadata": {},
   "outputs": [],
   "source": [
    "cap = cv2.VideoCapture(0)     # 0:webcam / 1:haricikamera / 'smile.mp4':video"
   ]
  },
  {
   "cell_type": "code",
   "execution_count": null,
   "id": "0a8187c5",
   "metadata": {},
   "outputs": [],
   "source": [
    "#webcamden gösterme\n",
    "\n",
    "while True:\n",
    "    ret,frame=cap.read()     #ret:doğru okuduysa TRUE okuyamadıysa FALSE döner frame:kare\n",
    "    frame = cv2.flip(frame,1)  #flip:kareyi yansıtma fonksiyonu\n",
    "    cv2.imshow('webcam',frame)\n",
    "    if cv2.waitKey(1) & 0xFF==ord(\"q\"):\n",
    "        break\n",
    "    \n",
    "cap.release() # serbest bırakıp kapatıyoruz\n",
    "cv2.destroyAllWindows()"
   ]
  },
  {
   "cell_type": "code",
   "execution_count": null,
   "id": "7ffdc587",
   "metadata": {},
   "outputs": [],
   "source": [
    "#videodan gösterme\n",
    "\n",
    "cap = cv2.VideoCapture('smile.mp4')   \n",
    "while True:\n",
    "    ret,frame=cap.read()\n",
    "    if ret==0:   #videodaki framelerden 0 dönerse çık\n",
    "        break  \n",
    "    cv2.imshow('video',frame)\n",
    "    if cv2.waitKey(15) & 0xFF==ord(\"q\"):\n",
    "        break\n",
    "    \n",
    "cap.release() \n",
    "cv2.destroyAllWindows()\n",
    "    "
   ]
  },
  {
   "cell_type": "code",
   "execution_count": 2,
   "id": "ad5dc58a",
   "metadata": {},
   "outputs": [],
   "source": [
    "#webcamden kaydetme\n",
    "\n",
    "cap=cv2.VideoCapture(0) #kamera nesnesi\n",
    "\n",
    "fileName='Webcam.avi' #videonun adı\n",
    "codec=cv2.VideoWriter_fourcc('W','M','V','2') #ses ve görüntüyü birleştirmek için bulunan çeşitli algoritmalardan birini seçiyoruz.\n",
    "frameRate=30  #fps\n",
    "resolution=(640,480)  #çözünürlük\n",
    "\n",
    "videoFileOutput= cv2.VideoWriter(fileName,codec,frameRate,resolution) #kaydetme ayarları\n",
    "\n",
    "while True:\n",
    "    ret,frame=cap.read()\n",
    "    frame = cv2.flip(frame,1)\n",
    "    videoFileOutput.write(frame)\n",
    "    cv2.imshow('webcam Live',frame)\n",
    "    if cv2.waitKey(1) & 0xFF== ord(\"q\"):\n",
    "        break\n",
    "videoFileOutput.release()\n",
    "cap.release()\n",
    "cv2.destroyAllWindows()"
   ]
  },
  {
   "cell_type": "code",
   "execution_count": null,
   "id": "41ba52dc",
   "metadata": {},
   "outputs": [],
   "source": [
    "# telefon kamerasından görüntü alma\n",
    "\n",
    "import cv2\n",
    "import requests\n",
    "import numpy as np\n",
    "\n",
    "url='http://192.168.1.10:8888/video' #ip webcam uygulamasındaN alınan url\n",
    "\n",
    "while True:\n",
    "    img_resp=requests.get(url)\n",
    "    img_arr=np.array(bytearray(img_resp.content),dtype=np.uint8)   #aldığımız görüntüyü array içinde tutuyoruz\n",
    "    img=cv2.imdecode(img_arr,cv2.IMREAD_COLOR)   #hafızadan çekileni görüntülenebilir hale getirelim imreadcolor:renkli\n",
    "    img=cv2.resize(img,(640,480))\n",
    "    \n",
    "    cv2.imshow('myMobilePhoneCamera',img)\n",
    "    \n",
    "    if cv2.waitKey(1)==27:\n",
    "        break\n",
    "    \n",
    "cv2.destroyAllWindows()\n",
    "    "
   ]
  },
  {
   "cell_type": "code",
   "execution_count": null,
   "id": "2bf8ab4d",
   "metadata": {},
   "outputs": [],
   "source": []
  },
  {
   "cell_type": "code",
   "execution_count": 3,
   "id": "45b5c1c6",
   "metadata": {},
   "outputs": [],
   "source": [
    "import cv2\n",
    "import numpy as np"
   ]
  },
  {
   "cell_type": "code",
   "execution_count": 5,
   "id": "9589832a",
   "metadata": {},
   "outputs": [],
   "source": [
    "# array ile siyah(0,0,0) frame oluşturma(BGR)\n",
    "\n",
    "canvas=np.zeros((512,512,3),dtype=np.uint8) \n",
    "#canvas:tuval\n",
    "cv2.imshow('canvas',canvas)\n",
    "cv2.waitKey(0) ; cv2.destroyAllWindows()"
   ]
  },
  {
   "cell_type": "code",
   "execution_count": 6,
   "id": "16f5eb7b",
   "metadata": {},
   "outputs": [],
   "source": [
    "# array ile beyaz(255,255,255) frame oluşturma(BGR)\n",
    "\n",
    "canvas=np.zeros((512,512,3),dtype=np.uint8)+255 \n",
    "#canvas:tuval\n",
    "cv2.imshow('canvas',canvas)\n",
    "cv2.waitKey(0) ; cv2.destroyAllWindows()"
   ]
  },
  {
   "cell_type": "code",
   "execution_count": null,
   "id": "a0a16aa6",
   "metadata": {},
   "outputs": [],
   "source": []
  },
  {
   "cell_type": "code",
   "execution_count": 1,
   "id": "2704d41c",
   "metadata": {},
   "outputs": [],
   "source": [
    "import cv2\n",
    "import numpy as np"
   ]
  },
  {
   "cell_type": "code",
   "execution_count": null,
   "id": "057a69c4",
   "metadata": {},
   "outputs": [],
   "source": [
    "#çizim fonksiyonları\n",
    "\n",
    "\n",
    "#tuval\n",
    "canvas=np.zeros((512,512,3),dtype=np.uint8)+255 \n",
    "\n",
    "#çizgi\n",
    "cv2.line(canvas,(50,50),(512,512),(255,0,0),thickness=5) #line(array,nereden,nereye,renk,kalınlık) \n",
    "\n",
    "#dikdörtgen\n",
    "cv2.rectangle(canvas,(20,20),(50,50),(0,255,0),thickness=2)  #rectangle(array,solüstköşenoktası,sağaltköşenoktası,renk,kalınlık) /içi dolu için:thickness=-1\n",
    "\n",
    "#çember\n",
    "cv2.circle(canvas,(250,250),100,(0,0,255),thickness=5) #cirle(array, merkeznoktası,yarıçapı,renk,kalınlık)/içi dolu için:thickness=-1\n",
    "\n",
    "#çokgen\n",
    "points=np.array([[110,200],[330,200],[290,220],[100,100]],np.int32)\n",
    "cv2.polylines(canvas,[points],True,(0,0,100),5)  #polylines(array,koordinatlar,kapalı-açık,renk,kalınlık)\n",
    "\n",
    "#elips\n",
    "cv2.ellipse(canvas,(300,300),(100,50),0,0,360,(255,255,0),-1) #ellipse(array,merkeznoktası,genişlik-yükseklik,yatayeksenleaçısı,başlangıç-bitişaçısı,renk,kalınlık)\n",
    "\n",
    "#yazı\n",
    "font1=cv2.FONT_HERSHEY_SIMPLEX\n",
    "font2=cv2.FONT_HERSHEY_COMPLEX\n",
    "font3=cv2.FONT_HERSHEY_SCRIPT_COMPLEX\n",
    "cv2.putText(canvas,'Opencv',(50,250),font1,4,(0,0,0),cv2.LINE_AA) #putText(array,metin,solaltköşenoktası,font,büyüklük,renk,yazıtipi)\n",
    "\n",
    "cv2.imshow('canvas',canvas)\n",
    "cv2.waitKey(0) ; cv2.destroyAllWindows()"
   ]
  },
  {
   "cell_type": "code",
   "execution_count": null,
   "id": "28346715",
   "metadata": {},
   "outputs": [],
   "source": []
  },
  {
   "cell_type": "code",
   "execution_count": 1,
   "id": "165b9eaa",
   "metadata": {},
   "outputs": [],
   "source": [
    "import cv2\n",
    "import numpy as np"
   ]
  },
  {
   "cell_type": "code",
   "execution_count": 2,
   "id": "f46cecc0",
   "metadata": {},
   "outputs": [],
   "source": [
    "#trackbar oluşturma(RGB RENK BULUCU)\n",
    "\n",
    "\n",
    "def nothing(x):\n",
    "    pass\n",
    "\n",
    "img=np.zeros((512,512,3),np.uint8)\n",
    "cv2.namedWindow('image')\n",
    "\n",
    "cv2.createTrackbar(\"R\",'image',0,255,nothing)\n",
    "cv2.createTrackbar(\"G\",'image',0,255,nothing)\n",
    "cv2.createTrackbar(\"B\",'image',0,255,nothing)\n",
    "switch='0: OFF, 1: ON'\n",
    "cv2.createTrackbar(switch,'image',0,1,nothing)\n",
    "\n",
    "while True:\n",
    "    cv2.imshow('image',img)\n",
    "    \n",
    "    if cv2.waitKey(1) & 0xFF==ord('q'):\n",
    "        break\n",
    "        \n",
    "    r=cv2.getTrackbarPos('R','image')\n",
    "    g=cv2.getTrackbarPos('G','image')\n",
    "    b=cv2.getTrackbarPos('B','image')\n",
    "    s=cv2.getTrackbarPos(switch,'image')\n",
    "    \n",
    "    if s==0:\n",
    "        img[:]=[0,0,0]\n",
    "    if s==1:\n",
    "        img[:]=[b,g,r]\n",
    "        \n",
    "cv2.destroyAllWindows()"
   ]
  }
 ],
 "metadata": {
  "kernelspec": {
   "display_name": "Python 3",
   "language": "python",
   "name": "python3"
  },
  "language_info": {
   "codemirror_mode": {
    "name": "ipython",
    "version": 3
   },
   "file_extension": ".py",
   "mimetype": "text/x-python",
   "name": "python",
   "nbconvert_exporter": "python",
   "pygments_lexer": "ipython3",
   "version": "3.6.13"
  }
 },
 "nbformat": 4,
 "nbformat_minor": 5
}
